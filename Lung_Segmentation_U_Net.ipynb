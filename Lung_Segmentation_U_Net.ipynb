{
  "nbformat": 4,
  "nbformat_minor": 0,
  "metadata": {
    "colab": {
      "name": "Lung_Segmentation_U-Net.ipynb",
      "provenance": [],
      "machine_shape": "hm"
    },
    "kernelspec": {
      "name": "python3",
      "display_name": "Python 3"
    },
    "language_info": {
      "name": "python"
    },
    "accelerator": "GPU",
    "gpuClass": "standard"
  },
  "cells": [
    {
      "cell_type": "code",
      "execution_count": 1,
      "metadata": {
        "id": "XAGUyEw0vq9v"
      },
      "outputs": [],
      "source": [
        "import os\n",
        "import numpy as np\n",
        "import cv2\n",
        "from glob import glob\n",
        "from sklearn.model_selection import train_test_split\n",
        "import tensorflow as tf\n",
        "from tensorflow.keras.callbacks import ModelCheckpoint, ReduceLROnPlateau\n",
        "from tensorflow.keras.optimizers import Adam\n",
        "from tensorflow.keras.metrics import Recall, Precision"
      ]
    },
    {
      "cell_type": "code",
      "source": [
        "\"\"\" Function to read the links of the images in followed by a train-test-split into train, test \n",
        " and validation datasets respectively.\"\"\"\n",
        "def load_data(path, split=0.1):\n",
        "    images = sorted(glob(os.path.join(path, \"CXR_png\", \"*.png\")))\n",
        "    masks_l = sorted(glob(os.path.join(path, \"ManualMask\", \"leftMask\", \"*.png\")))\n",
        "    masks_r = sorted(glob(os.path.join(path, \"ManualMask\", \"rightMask\", \"*.png\")))\n",
        "    split_size = int(len(images) * split) # a 90-10 split in the data\n",
        "    train_x, val_x = train_test_split(images, test_size=split_size, random_state=42)\n",
        "    train_y_l, val_y_l = train_test_split(masks_l, test_size=split_size, random_state=42)\n",
        "    train_y_r, val_y_r = train_test_split(masks_r, test_size=split_size, random_state=42)\n",
        "    train_x, test_x = train_test_split(train_x, test_size=split_size, random_state=42)\n",
        "    train_y_l, test_y_l = train_test_split(train_y_l, test_size=split_size, random_state=42)\n",
        "    train_y_r, test_y_r = train_test_split(train_y_r, test_size=split_size, random_state=42)\n",
        "\n",
        "    return (train_x, train_y_l, train_y_r), (val_x, val_y_l, val_y_r), (test_x, test_y_l, test_y_r)"
      ],
      "metadata": {
        "id": "mrNg1yanwhpe"
      },
      "execution_count": 2,
      "outputs": []
    },
    {
      "cell_type": "code",
      "source": [
        "\"\"\"To read in the images\"\"\"\n",
        "def imageread(path,width=512,height=512):\n",
        "    x = cv2.imread(path, cv2.IMREAD_COLOR)\n",
        "    x = cv2.resize(x, (width, height))\n",
        "    x = x/255.0\n",
        "    x = x.astype(np.float32)\n",
        "    return x"
      ],
      "metadata": {
        "id": "2lOAD-vlxN1j"
      },
      "execution_count": 3,
      "outputs": []
    },
    {
      "cell_type": "code",
      "source": [
        "\"\"\" To read in the masks\"\"\"\n",
        "def maskread(path_l, path_r,width=512,height=512):\n",
        "    x_l = cv2.imread(path_l, cv2.IMREAD_GRAYSCALE)\n",
        "    x_r = cv2.imread(path_r, cv2.IMREAD_GRAYSCALE)\n",
        "    x = x_l + x_r\n",
        "    x = cv2.resize(x, (width, height))\n",
        "    x = x/np.max(x)\n",
        "    x = x > 0.5\n",
        "    x = x.astype(np.float32)\n",
        "    x = np.expand_dims(x, axis=-1)\n",
        "    return x"
      ],
      "metadata": {
        "id": "MADXj4aXxgjc"
      },
      "execution_count": 4,
      "outputs": []
    },
    {
      "cell_type": "code",
      "source": [
        "def tf_parse(x, y_l, y_r):\n",
        "    def _parse(x, y_l, y_r):\n",
        "        x = x.decode()\n",
        "        y_l = y_l.decode()\n",
        "        y_r = y_r.decode()\n",
        "        x = imageread(x)\n",
        "        y = maskread(y_l, y_r)\n",
        "        return x, y\n",
        "    x, y = tf.numpy_function(_parse, [x, y_l, y_r], [tf.float32, tf.float32])\n",
        "    x.set_shape([512, 512, 3])\n",
        "    y.set_shape([512, 512, 1])\n",
        "    return x, y"
      ],
      "metadata": {
        "id": "L3K6F0nbxw67"
      },
      "execution_count": 5,
      "outputs": []
    },
    {
      "cell_type": "code",
      "source": [
        "def tf_dataset(X, Y_l, Y_r, batch=8):\n",
        "    dataset = tf.data.Dataset.from_tensor_slices((X, Y_l, Y_r))\n",
        "    dataset = dataset.shuffle(buffer_size=200)\n",
        "    dataset = dataset.map(tf_parse)\n",
        "    dataset = dataset.batch(batch)\n",
        "    dataset = dataset.prefetch(4)\n",
        "    return dataset"
      ],
      "metadata": {
        "id": "C7XCkmxwzesA"
      },
      "execution_count": 6,
      "outputs": []
    },
    {
      "cell_type": "code",
      "source": [
        "\"\"\" Hyperparameters \"\"\"\n",
        "batch_size = 2\n",
        "lr = 1e-5\n",
        "epochs = 30\n",
        "model_path = \"/content/model.h5\""
      ],
      "metadata": {
        "id": "igVDkfinzkCQ"
      },
      "execution_count": 7,
      "outputs": []
    },
    {
      "cell_type": "code",
      "source": [
        "\"\"\" Dataset \"\"\"\n",
        "dataset_path = '/content/drive/MyDrive/NLM-MontgomeryCXRSet/MontgomerySet'\n",
        "(train_x, train_y_l, train_y_r), (val_x, val_y_l, val_y_r), (test_x, test_y_l, test_y_r) = load_data(dataset_path)"
      ],
      "metadata": {
        "id": "bLK3Rp68zuwq"
      },
      "execution_count": 8,
      "outputs": []
    },
    {
      "cell_type": "code",
      "source": [
        "train_dataset = tf_dataset(train_x, train_y_l, train_y_r, batch=batch_size)\n",
        "val_dataset = tf_dataset(val_x, val_y_l, val_y_r, batch=batch_size)"
      ],
      "metadata": {
        "id": "6fXil7BHz5Aq"
      },
      "execution_count": 9,
      "outputs": []
    },
    {
      "cell_type": "code",
      "source": [
        "def iou(y_true, y_pred):\n",
        "    def f(y_true, y_pred):\n",
        "        intersection = (y_true * y_pred).sum()\n",
        "        union = y_true.sum() + y_pred.sum() - intersection\n",
        "        x = (intersection + 1e-15) / (union + 1e-15)\n",
        "        x = x.astype(np.float32)\n",
        "        return x\n",
        "    return tf.numpy_function(f, [y_true, y_pred], tf.float32)\n",
        "\n",
        "smooth = 1e-15\n",
        "def dice_coef(y_true, y_pred):\n",
        "    y_true = tf.keras.layers.Flatten()(y_true)\n",
        "    y_pred = tf.keras.layers.Flatten()(y_pred)\n",
        "    intersection = tf.reduce_sum(y_true * y_pred)\n",
        "    return (2. * intersection + smooth) / (tf.reduce_sum(y_true) + tf.reduce_sum(y_pred) + smooth)\n",
        "\n",
        "def dice_loss(y_true, y_pred):\n",
        "    return 1.0 - dice_coef(y_true, y_pred)"
      ],
      "metadata": {
        "id": "HvHz6uWx0PJ-"
      },
      "execution_count": 10,
      "outputs": []
    },
    {
      "cell_type": "code",
      "source": [
        "from tensorflow.keras.layers import Conv2D, BatchNormalization, Activation, MaxPool2D, Conv2DTranspose, Concatenate, Input\n",
        "from tensorflow.keras.models import Model"
      ],
      "metadata": {
        "id": "Aouh8bZ60hCe"
      },
      "execution_count": 11,
      "outputs": []
    },
    {
      "cell_type": "code",
      "source": [
        "def conv_block(input, num_filters):\n",
        "    x = Conv2D(num_filters, 3, padding=\"same\")(input)\n",
        "    x = BatchNormalization()(x)\n",
        "    x = Activation(\"relu\")(x)\n",
        "\n",
        "    x = Conv2D(num_filters, 3, padding=\"same\")(x)\n",
        "    x = BatchNormalization()(x)\n",
        "    x = Activation(\"relu\")(x)\n",
        "\n",
        "    return x\n",
        "\n",
        "def encoder_block(input, num_filters):\n",
        "    x = conv_block(input, num_filters)\n",
        "    p = MaxPool2D((2, 2))(x)\n",
        "    return x, p\n",
        "\n",
        "def decoder_block(input, skip_features, num_filters):\n",
        "    x = Conv2DTranspose(num_filters, (2, 2), strides=2, padding=\"same\")(input)\n",
        "    x = Concatenate()([x, skip_features])\n",
        "    x = conv_block(x, num_filters)\n",
        "    return x\n",
        "\n",
        "def build_unet(input_shape):\n",
        "    inputs = Input(input_shape)\n",
        "\n",
        "    s1, p1 = encoder_block(inputs, 64)\n",
        "    s2, p2 = encoder_block(p1, 128)\n",
        "    s3, p3 = encoder_block(p2, 256)\n",
        "    s4, p4 = encoder_block(p3, 512)\n",
        "\n",
        "    b1 = conv_block(p4, 1024)\n",
        "\n",
        "    d1 = decoder_block(b1, s4, 512)\n",
        "    d2 = decoder_block(d1, s3, 256)\n",
        "    d3 = decoder_block(d2, s2, 128)\n",
        "    d4 = decoder_block(d3, s1, 64)\n",
        "\n",
        "    outputs = Conv2D(1, 1, padding=\"same\", activation=\"sigmoid\")(d4)\n",
        "\n",
        "    model = Model(inputs, outputs, name=\"U-Net\")\n",
        "    return model"
      ],
      "metadata": {
        "id": "9eWqkGgH0jyE"
      },
      "execution_count": 12,
      "outputs": []
    },
    {
      "cell_type": "code",
      "source": [
        "model = build_unet((512, 512, 3))\n",
        "metrics = [dice_coef, iou, Recall(), Precision()]\n",
        "model.compile(loss=dice_loss, optimizer=Adam(lr), metrics=metrics)"
      ],
      "metadata": {
        "id": "e8BUCT9f0sAd"
      },
      "execution_count": 13,
      "outputs": []
    },
    {
      "cell_type": "code",
      "source": [
        "model.summary()"
      ],
      "metadata": {
        "colab": {
          "base_uri": "https://localhost:8080/"
        },
        "id": "wTzf_hNi02Qc",
        "outputId": "efa9b3f2-a1de-4d34-cefc-fc4c8125ba33"
      },
      "execution_count": 14,
      "outputs": [
        {
          "output_type": "stream",
          "name": "stdout",
          "text": [
            "Model: \"U-Net\"\n",
            "__________________________________________________________________________________________________\n",
            " Layer (type)                   Output Shape         Param #     Connected to                     \n",
            "==================================================================================================\n",
            " input_1 (InputLayer)           [(None, 512, 512, 3  0           []                               \n",
            "                                )]                                                                \n",
            "                                                                                                  \n",
            " conv2d (Conv2D)                (None, 512, 512, 64  1792        ['input_1[0][0]']                \n",
            "                                )                                                                 \n",
            "                                                                                                  \n",
            " batch_normalization (BatchNorm  (None, 512, 512, 64  256        ['conv2d[0][0]']                 \n",
            " alization)                     )                                                                 \n",
            "                                                                                                  \n",
            " activation (Activation)        (None, 512, 512, 64  0           ['batch_normalization[0][0]']    \n",
            "                                )                                                                 \n",
            "                                                                                                  \n",
            " conv2d_1 (Conv2D)              (None, 512, 512, 64  36928       ['activation[0][0]']             \n",
            "                                )                                                                 \n",
            "                                                                                                  \n",
            " batch_normalization_1 (BatchNo  (None, 512, 512, 64  256        ['conv2d_1[0][0]']               \n",
            " rmalization)                   )                                                                 \n",
            "                                                                                                  \n",
            " activation_1 (Activation)      (None, 512, 512, 64  0           ['batch_normalization_1[0][0]']  \n",
            "                                )                                                                 \n",
            "                                                                                                  \n",
            " max_pooling2d (MaxPooling2D)   (None, 256, 256, 64  0           ['activation_1[0][0]']           \n",
            "                                )                                                                 \n",
            "                                                                                                  \n",
            " conv2d_2 (Conv2D)              (None, 256, 256, 12  73856       ['max_pooling2d[0][0]']          \n",
            "                                8)                                                                \n",
            "                                                                                                  \n",
            " batch_normalization_2 (BatchNo  (None, 256, 256, 12  512        ['conv2d_2[0][0]']               \n",
            " rmalization)                   8)                                                                \n",
            "                                                                                                  \n",
            " activation_2 (Activation)      (None, 256, 256, 12  0           ['batch_normalization_2[0][0]']  \n",
            "                                8)                                                                \n",
            "                                                                                                  \n",
            " conv2d_3 (Conv2D)              (None, 256, 256, 12  147584      ['activation_2[0][0]']           \n",
            "                                8)                                                                \n",
            "                                                                                                  \n",
            " batch_normalization_3 (BatchNo  (None, 256, 256, 12  512        ['conv2d_3[0][0]']               \n",
            " rmalization)                   8)                                                                \n",
            "                                                                                                  \n",
            " activation_3 (Activation)      (None, 256, 256, 12  0           ['batch_normalization_3[0][0]']  \n",
            "                                8)                                                                \n",
            "                                                                                                  \n",
            " max_pooling2d_1 (MaxPooling2D)  (None, 128, 128, 12  0          ['activation_3[0][0]']           \n",
            "                                8)                                                                \n",
            "                                                                                                  \n",
            " conv2d_4 (Conv2D)              (None, 128, 128, 25  295168      ['max_pooling2d_1[0][0]']        \n",
            "                                6)                                                                \n",
            "                                                                                                  \n",
            " batch_normalization_4 (BatchNo  (None, 128, 128, 25  1024       ['conv2d_4[0][0]']               \n",
            " rmalization)                   6)                                                                \n",
            "                                                                                                  \n",
            " activation_4 (Activation)      (None, 128, 128, 25  0           ['batch_normalization_4[0][0]']  \n",
            "                                6)                                                                \n",
            "                                                                                                  \n",
            " conv2d_5 (Conv2D)              (None, 128, 128, 25  590080      ['activation_4[0][0]']           \n",
            "                                6)                                                                \n",
            "                                                                                                  \n",
            " batch_normalization_5 (BatchNo  (None, 128, 128, 25  1024       ['conv2d_5[0][0]']               \n",
            " rmalization)                   6)                                                                \n",
            "                                                                                                  \n",
            " activation_5 (Activation)      (None, 128, 128, 25  0           ['batch_normalization_5[0][0]']  \n",
            "                                6)                                                                \n",
            "                                                                                                  \n",
            " max_pooling2d_2 (MaxPooling2D)  (None, 64, 64, 256)  0          ['activation_5[0][0]']           \n",
            "                                                                                                  \n",
            " conv2d_6 (Conv2D)              (None, 64, 64, 512)  1180160     ['max_pooling2d_2[0][0]']        \n",
            "                                                                                                  \n",
            " batch_normalization_6 (BatchNo  (None, 64, 64, 512)  2048       ['conv2d_6[0][0]']               \n",
            " rmalization)                                                                                     \n",
            "                                                                                                  \n",
            " activation_6 (Activation)      (None, 64, 64, 512)  0           ['batch_normalization_6[0][0]']  \n",
            "                                                                                                  \n",
            " conv2d_7 (Conv2D)              (None, 64, 64, 512)  2359808     ['activation_6[0][0]']           \n",
            "                                                                                                  \n",
            " batch_normalization_7 (BatchNo  (None, 64, 64, 512)  2048       ['conv2d_7[0][0]']               \n",
            " rmalization)                                                                                     \n",
            "                                                                                                  \n",
            " activation_7 (Activation)      (None, 64, 64, 512)  0           ['batch_normalization_7[0][0]']  \n",
            "                                                                                                  \n",
            " max_pooling2d_3 (MaxPooling2D)  (None, 32, 32, 512)  0          ['activation_7[0][0]']           \n",
            "                                                                                                  \n",
            " conv2d_8 (Conv2D)              (None, 32, 32, 1024  4719616     ['max_pooling2d_3[0][0]']        \n",
            "                                )                                                                 \n",
            "                                                                                                  \n",
            " batch_normalization_8 (BatchNo  (None, 32, 32, 1024  4096       ['conv2d_8[0][0]']               \n",
            " rmalization)                   )                                                                 \n",
            "                                                                                                  \n",
            " activation_8 (Activation)      (None, 32, 32, 1024  0           ['batch_normalization_8[0][0]']  \n",
            "                                )                                                                 \n",
            "                                                                                                  \n",
            " conv2d_9 (Conv2D)              (None, 32, 32, 1024  9438208     ['activation_8[0][0]']           \n",
            "                                )                                                                 \n",
            "                                                                                                  \n",
            " batch_normalization_9 (BatchNo  (None, 32, 32, 1024  4096       ['conv2d_9[0][0]']               \n",
            " rmalization)                   )                                                                 \n",
            "                                                                                                  \n",
            " activation_9 (Activation)      (None, 32, 32, 1024  0           ['batch_normalization_9[0][0]']  \n",
            "                                )                                                                 \n",
            "                                                                                                  \n",
            " conv2d_transpose (Conv2DTransp  (None, 64, 64, 512)  2097664    ['activation_9[0][0]']           \n",
            " ose)                                                                                             \n",
            "                                                                                                  \n",
            " concatenate (Concatenate)      (None, 64, 64, 1024  0           ['conv2d_transpose[0][0]',       \n",
            "                                )                                 'activation_7[0][0]']           \n",
            "                                                                                                  \n",
            " conv2d_10 (Conv2D)             (None, 64, 64, 512)  4719104     ['concatenate[0][0]']            \n",
            "                                                                                                  \n",
            " batch_normalization_10 (BatchN  (None, 64, 64, 512)  2048       ['conv2d_10[0][0]']              \n",
            " ormalization)                                                                                    \n",
            "                                                                                                  \n",
            " activation_10 (Activation)     (None, 64, 64, 512)  0           ['batch_normalization_10[0][0]'] \n",
            "                                                                                                  \n",
            " conv2d_11 (Conv2D)             (None, 64, 64, 512)  2359808     ['activation_10[0][0]']          \n",
            "                                                                                                  \n",
            " batch_normalization_11 (BatchN  (None, 64, 64, 512)  2048       ['conv2d_11[0][0]']              \n",
            " ormalization)                                                                                    \n",
            "                                                                                                  \n",
            " activation_11 (Activation)     (None, 64, 64, 512)  0           ['batch_normalization_11[0][0]'] \n",
            "                                                                                                  \n",
            " conv2d_transpose_1 (Conv2DTran  (None, 128, 128, 25  524544     ['activation_11[0][0]']          \n",
            " spose)                         6)                                                                \n",
            "                                                                                                  \n",
            " concatenate_1 (Concatenate)    (None, 128, 128, 51  0           ['conv2d_transpose_1[0][0]',     \n",
            "                                2)                                'activation_5[0][0]']           \n",
            "                                                                                                  \n",
            " conv2d_12 (Conv2D)             (None, 128, 128, 25  1179904     ['concatenate_1[0][0]']          \n",
            "                                6)                                                                \n",
            "                                                                                                  \n",
            " batch_normalization_12 (BatchN  (None, 128, 128, 25  1024       ['conv2d_12[0][0]']              \n",
            " ormalization)                  6)                                                                \n",
            "                                                                                                  \n",
            " activation_12 (Activation)     (None, 128, 128, 25  0           ['batch_normalization_12[0][0]'] \n",
            "                                6)                                                                \n",
            "                                                                                                  \n",
            " conv2d_13 (Conv2D)             (None, 128, 128, 25  590080      ['activation_12[0][0]']          \n",
            "                                6)                                                                \n",
            "                                                                                                  \n",
            " batch_normalization_13 (BatchN  (None, 128, 128, 25  1024       ['conv2d_13[0][0]']              \n",
            " ormalization)                  6)                                                                \n",
            "                                                                                                  \n",
            " activation_13 (Activation)     (None, 128, 128, 25  0           ['batch_normalization_13[0][0]'] \n",
            "                                6)                                                                \n",
            "                                                                                                  \n",
            " conv2d_transpose_2 (Conv2DTran  (None, 256, 256, 12  131200     ['activation_13[0][0]']          \n",
            " spose)                         8)                                                                \n",
            "                                                                                                  \n",
            " concatenate_2 (Concatenate)    (None, 256, 256, 25  0           ['conv2d_transpose_2[0][0]',     \n",
            "                                6)                                'activation_3[0][0]']           \n",
            "                                                                                                  \n",
            " conv2d_14 (Conv2D)             (None, 256, 256, 12  295040      ['concatenate_2[0][0]']          \n",
            "                                8)                                                                \n",
            "                                                                                                  \n",
            " batch_normalization_14 (BatchN  (None, 256, 256, 12  512        ['conv2d_14[0][0]']              \n",
            " ormalization)                  8)                                                                \n",
            "                                                                                                  \n",
            " activation_14 (Activation)     (None, 256, 256, 12  0           ['batch_normalization_14[0][0]'] \n",
            "                                8)                                                                \n",
            "                                                                                                  \n",
            " conv2d_15 (Conv2D)             (None, 256, 256, 12  147584      ['activation_14[0][0]']          \n",
            "                                8)                                                                \n",
            "                                                                                                  \n",
            " batch_normalization_15 (BatchN  (None, 256, 256, 12  512        ['conv2d_15[0][0]']              \n",
            " ormalization)                  8)                                                                \n",
            "                                                                                                  \n",
            " activation_15 (Activation)     (None, 256, 256, 12  0           ['batch_normalization_15[0][0]'] \n",
            "                                8)                                                                \n",
            "                                                                                                  \n",
            " conv2d_transpose_3 (Conv2DTran  (None, 512, 512, 64  32832      ['activation_15[0][0]']          \n",
            " spose)                         )                                                                 \n",
            "                                                                                                  \n",
            " concatenate_3 (Concatenate)    (None, 512, 512, 12  0           ['conv2d_transpose_3[0][0]',     \n",
            "                                8)                                'activation_1[0][0]']           \n",
            "                                                                                                  \n",
            " conv2d_16 (Conv2D)             (None, 512, 512, 64  73792       ['concatenate_3[0][0]']          \n",
            "                                )                                                                 \n",
            "                                                                                                  \n",
            " batch_normalization_16 (BatchN  (None, 512, 512, 64  256        ['conv2d_16[0][0]']              \n",
            " ormalization)                  )                                                                 \n",
            "                                                                                                  \n",
            " activation_16 (Activation)     (None, 512, 512, 64  0           ['batch_normalization_16[0][0]'] \n",
            "                                )                                                                 \n",
            "                                                                                                  \n",
            " conv2d_17 (Conv2D)             (None, 512, 512, 64  36928       ['activation_16[0][0]']          \n",
            "                                )                                                                 \n",
            "                                                                                                  \n",
            " batch_normalization_17 (BatchN  (None, 512, 512, 64  256        ['conv2d_17[0][0]']              \n",
            " ormalization)                  )                                                                 \n",
            "                                                                                                  \n",
            " activation_17 (Activation)     (None, 512, 512, 64  0           ['batch_normalization_17[0][0]'] \n",
            "                                )                                                                 \n",
            "                                                                                                  \n",
            " conv2d_18 (Conv2D)             (None, 512, 512, 1)  65          ['activation_17[0][0]']          \n",
            "                                                                                                  \n",
            "==================================================================================================\n",
            "Total params: 31,055,297\n",
            "Trainable params: 31,043,521\n",
            "Non-trainable params: 11,776\n",
            "__________________________________________________________________________________________________\n"
          ]
        }
      ]
    },
    {
      "cell_type": "code",
      "source": [
        "callbacks = [\n",
        "        ModelCheckpoint(model_path, verbose=1, save_best_only=True),\n",
        "        ReduceLROnPlateau(monitor='val_loss', factor=0.1, patience=5, min_lr=1e-8, verbose=1)\n",
        "        ]"
      ],
      "metadata": {
        "id": "ZYRbtn9E04HO"
      },
      "execution_count": 15,
      "outputs": []
    },
    {
      "cell_type": "code",
      "source": [
        "history = model.fit(\n",
        "        train_dataset,\n",
        "        epochs=epochs,\n",
        "        validation_data=val_dataset,\n",
        "        callbacks=callbacks\n",
        "    )"
      ],
      "metadata": {
        "colab": {
          "base_uri": "https://localhost:8080/"
        },
        "id": "kt6Iz-sU086U",
        "outputId": "39ad1551-f534-444b-d69f-7bdd653d380c"
      },
      "execution_count": 16,
      "outputs": [
        {
          "output_type": "stream",
          "name": "stdout",
          "text": [
            "Epoch 1/30\n",
            "56/56 [==============================] - ETA: 0s - loss: 0.5348 - dice_coef: 0.4652 - iou: 0.3056 - recall: 0.9203 - precision: 0.4107\n",
            "Epoch 1: val_loss improved from inf to 0.65390, saving model to /content/model.h5\n",
            "56/56 [==============================] - 223s 3s/step - loss: 0.5348 - dice_coef: 0.4652 - iou: 0.3056 - recall: 0.9203 - precision: 0.4107 - val_loss: 0.6539 - val_dice_coef: 0.3413 - val_iou: 0.2073 - val_recall: 1.0000 - val_precision: 0.2524 - lr: 1.0000e-05\n",
            "Epoch 2/30\n",
            "56/56 [==============================] - ETA: 0s - loss: 0.3979 - dice_coef: 0.6021 - iou: 0.4341 - recall: 0.9457 - precision: 0.5425\n",
            "Epoch 2: val_loss improved from 0.65390 to 0.62336, saving model to /content/model.h5\n",
            "56/56 [==============================] - 41s 729ms/step - loss: 0.3979 - dice_coef: 0.6021 - iou: 0.4341 - recall: 0.9457 - precision: 0.5425 - val_loss: 0.6234 - val_dice_coef: 0.3711 - val_iou: 0.2295 - val_recall: 0.9995 - val_precision: 0.2561 - lr: 1.0000e-05\n",
            "Epoch 3/30\n",
            "56/56 [==============================] - ETA: 0s - loss: 0.2980 - dice_coef: 0.7020 - iou: 0.5467 - recall: 0.9541 - precision: 0.7409\n",
            "Epoch 3: val_loss improved from 0.62336 to 0.61061, saving model to /content/model.h5\n",
            "56/56 [==============================] - 41s 732ms/step - loss: 0.2980 - dice_coef: 0.7020 - iou: 0.5467 - recall: 0.9541 - precision: 0.7409 - val_loss: 0.6106 - val_dice_coef: 0.3908 - val_iou: 0.2445 - val_recall: 0.9697 - val_precision: 0.3129 - lr: 1.0000e-05\n",
            "Epoch 4/30\n",
            "56/56 [==============================] - ETA: 0s - loss: 0.2210 - dice_coef: 0.7790 - iou: 0.6413 - recall: 0.9683 - precision: 0.8760\n",
            "Epoch 4: val_loss improved from 0.61061 to 0.60634, saving model to /content/model.h5\n",
            "56/56 [==============================] - 41s 734ms/step - loss: 0.2210 - dice_coef: 0.7790 - iou: 0.6413 - recall: 0.9683 - precision: 0.8760 - val_loss: 0.6063 - val_dice_coef: 0.3899 - val_iou: 0.2435 - val_recall: 0.8737 - val_precision: 0.3665 - lr: 1.0000e-05\n",
            "Epoch 5/30\n",
            "56/56 [==============================] - ETA: 0s - loss: 0.1834 - dice_coef: 0.8166 - iou: 0.6940 - recall: 0.9729 - precision: 0.9140\n",
            "Epoch 5: val_loss did not improve from 0.60634\n",
            "56/56 [==============================] - 41s 721ms/step - loss: 0.1834 - dice_coef: 0.8166 - iou: 0.6940 - recall: 0.9729 - precision: 0.9140 - val_loss: 0.7270 - val_dice_coef: 0.2745 - val_iou: 0.1595 - val_recall: 5.4641e-04 - val_precision: 0.0050 - lr: 1.0000e-05\n",
            "Epoch 6/30\n",
            "56/56 [==============================] - ETA: 0s - loss: 0.1588 - dice_coef: 0.8412 - iou: 0.7281 - recall: 0.9739 - precision: 0.9382\n",
            "Epoch 6: val_loss did not improve from 0.60634\n",
            "56/56 [==============================] - 40s 714ms/step - loss: 0.1588 - dice_coef: 0.8412 - iou: 0.7281 - recall: 0.9739 - precision: 0.9382 - val_loss: 0.7504 - val_dice_coef: 0.2493 - val_iou: 0.1427 - val_recall: 0.0424 - val_precision: 0.5670 - lr: 1.0000e-05\n",
            "Epoch 7/30\n",
            "56/56 [==============================] - ETA: 0s - loss: 0.1489 - dice_coef: 0.8511 - iou: 0.7435 - recall: 0.9719 - precision: 0.9449\n",
            "Epoch 7: val_loss improved from 0.60634 to 0.47755, saving model to /content/model.h5\n",
            "56/56 [==============================] - 41s 731ms/step - loss: 0.1489 - dice_coef: 0.8511 - iou: 0.7435 - recall: 0.9719 - precision: 0.9449 - val_loss: 0.4775 - val_dice_coef: 0.5260 - val_iou: 0.3580 - val_recall: 0.4381 - val_precision: 0.9469 - lr: 1.0000e-05\n",
            "Epoch 8/30\n",
            "56/56 [==============================] - ETA: 0s - loss: 0.1369 - dice_coef: 0.8631 - iou: 0.7613 - recall: 0.9744 - precision: 0.9511\n",
            "Epoch 8: val_loss improved from 0.47755 to 0.25108, saving model to /content/model.h5\n",
            "56/56 [==============================] - 41s 730ms/step - loss: 0.1369 - dice_coef: 0.8631 - iou: 0.7613 - recall: 0.9744 - precision: 0.9511 - val_loss: 0.2511 - val_dice_coef: 0.7457 - val_iou: 0.5962 - val_recall: 0.7974 - val_precision: 0.9332 - lr: 1.0000e-05\n",
            "Epoch 9/30\n",
            "56/56 [==============================] - ETA: 0s - loss: 0.1301 - dice_coef: 0.8699 - iou: 0.7723 - recall: 0.9765 - precision: 0.9576\n",
            "Epoch 9: val_loss did not improve from 0.25108\n",
            "56/56 [==============================] - 40s 714ms/step - loss: 0.1301 - dice_coef: 0.8699 - iou: 0.7723 - recall: 0.9765 - precision: 0.9576 - val_loss: 0.3017 - val_dice_coef: 0.7003 - val_iou: 0.5411 - val_recall: 0.7027 - val_precision: 0.9027 - lr: 1.0000e-05\n",
            "Epoch 10/30\n",
            "56/56 [==============================] - ETA: 0s - loss: 0.1216 - dice_coef: 0.8784 - iou: 0.7847 - recall: 0.9791 - precision: 0.9625\n",
            "Epoch 10: val_loss did not improve from 0.25108\n",
            "56/56 [==============================] - 40s 711ms/step - loss: 0.1216 - dice_coef: 0.8784 - iou: 0.7847 - recall: 0.9791 - precision: 0.9625 - val_loss: 0.2515 - val_dice_coef: 0.7477 - val_iou: 0.5996 - val_recall: 0.7753 - val_precision: 0.9245 - lr: 1.0000e-05\n",
            "Epoch 11/30\n",
            "56/56 [==============================] - ETA: 0s - loss: 0.1180 - dice_coef: 0.8820 - iou: 0.7903 - recall: 0.9788 - precision: 0.9641\n",
            "Epoch 11: val_loss improved from 0.25108 to 0.14831, saving model to /content/model.h5\n",
            "56/56 [==============================] - 41s 728ms/step - loss: 0.1180 - dice_coef: 0.8820 - iou: 0.7903 - recall: 0.9788 - precision: 0.9641 - val_loss: 0.1483 - val_dice_coef: 0.8545 - val_iou: 0.7465 - val_recall: 0.9279 - val_precision: 0.9493 - lr: 1.0000e-05\n",
            "Epoch 12/30\n",
            "56/56 [==============================] - ETA: 0s - loss: 0.1164 - dice_coef: 0.8836 - iou: 0.7938 - recall: 0.9807 - precision: 0.9650\n",
            "Epoch 12: val_loss improved from 0.14831 to 0.13534, saving model to /content/model.h5\n",
            "56/56 [==============================] - 41s 725ms/step - loss: 0.1164 - dice_coef: 0.8836 - iou: 0.7938 - recall: 0.9807 - precision: 0.9650 - val_loss: 0.1353 - val_dice_coef: 0.8669 - val_iou: 0.7662 - val_recall: 0.9569 - val_precision: 0.9352 - lr: 1.0000e-05\n",
            "Epoch 13/30\n",
            "56/56 [==============================] - ETA: 0s - loss: 0.1119 - dice_coef: 0.8881 - iou: 0.8006 - recall: 0.9810 - precision: 0.9671\n",
            "Epoch 13: val_loss improved from 0.13534 to 0.13077, saving model to /content/model.h5\n",
            "56/56 [==============================] - 41s 727ms/step - loss: 0.1119 - dice_coef: 0.8881 - iou: 0.8006 - recall: 0.9810 - precision: 0.9671 - val_loss: 0.1308 - val_dice_coef: 0.8719 - val_iou: 0.7737 - val_recall: 0.9579 - val_precision: 0.9418 - lr: 1.0000e-05\n",
            "Epoch 14/30\n",
            "56/56 [==============================] - ETA: 0s - loss: 0.1094 - dice_coef: 0.8906 - iou: 0.8043 - recall: 0.9800 - precision: 0.9680\n",
            "Epoch 14: val_loss did not improve from 0.13077\n",
            "56/56 [==============================] - 41s 728ms/step - loss: 0.1094 - dice_coef: 0.8906 - iou: 0.8043 - recall: 0.9800 - precision: 0.9680 - val_loss: 0.1350 - val_dice_coef: 0.8569 - val_iou: 0.7539 - val_recall: 0.9617 - val_precision: 0.9459 - lr: 1.0000e-05\n",
            "Epoch 15/30\n",
            "56/56 [==============================] - ETA: 0s - loss: 0.1061 - dice_coef: 0.8939 - iou: 0.8099 - recall: 0.9829 - precision: 0.9718\n",
            "Epoch 15: val_loss improved from 0.13077 to 0.12294, saving model to /content/model.h5\n",
            "56/56 [==============================] - 41s 732ms/step - loss: 0.1061 - dice_coef: 0.8939 - iou: 0.8099 - recall: 0.9829 - precision: 0.9718 - val_loss: 0.1229 - val_dice_coef: 0.8791 - val_iou: 0.7853 - val_recall: 0.9467 - val_precision: 0.9705 - lr: 1.0000e-05\n",
            "Epoch 16/30\n",
            "56/56 [==============================] - ETA: 0s - loss: 0.1033 - dice_coef: 0.8967 - iou: 0.8142 - recall: 0.9826 - precision: 0.9721\n",
            "Epoch 16: val_loss improved from 0.12294 to 0.12253, saving model to /content/model.h5\n",
            "56/56 [==============================] - 42s 735ms/step - loss: 0.1033 - dice_coef: 0.8967 - iou: 0.8142 - recall: 0.9826 - precision: 0.9721 - val_loss: 0.1225 - val_dice_coef: 0.8690 - val_iou: 0.7713 - val_recall: 0.9555 - val_precision: 0.9610 - lr: 1.0000e-05\n",
            "Epoch 17/30\n",
            "56/56 [==============================] - ETA: 0s - loss: 0.1020 - dice_coef: 0.8980 - iou: 0.8168 - recall: 0.9839 - precision: 0.9725\n",
            "Epoch 17: val_loss did not improve from 0.12253\n",
            "56/56 [==============================] - 40s 713ms/step - loss: 0.1020 - dice_coef: 0.8980 - iou: 0.8168 - recall: 0.9839 - precision: 0.9725 - val_loss: 0.1230 - val_dice_coef: 0.8680 - val_iou: 0.7701 - val_recall: 0.9383 - val_precision: 0.9801 - lr: 1.0000e-05\n",
            "Epoch 18/30\n",
            "56/56 [==============================] - ETA: 0s - loss: 0.0976 - dice_coef: 0.9024 - iou: 0.8232 - recall: 0.9836 - precision: 0.9757\n",
            "Epoch 18: val_loss improved from 0.12253 to 0.11546, saving model to /content/model.h5\n",
            "56/56 [==============================] - 41s 734ms/step - loss: 0.0976 - dice_coef: 0.9024 - iou: 0.8232 - recall: 0.9836 - precision: 0.9757 - val_loss: 0.1155 - val_dice_coef: 0.8800 - val_iou: 0.7869 - val_recall: 0.9550 - val_precision: 0.9681 - lr: 1.0000e-05\n",
            "Epoch 19/30\n",
            "56/56 [==============================] - ETA: 0s - loss: 0.0970 - dice_coef: 0.9030 - iou: 0.8248 - recall: 0.9854 - precision: 0.9758\n",
            "Epoch 19: val_loss did not improve from 0.11546\n",
            "56/56 [==============================] - 40s 709ms/step - loss: 0.0970 - dice_coef: 0.9030 - iou: 0.8248 - recall: 0.9854 - precision: 0.9758 - val_loss: 0.1220 - val_dice_coef: 0.8696 - val_iou: 0.7729 - val_recall: 0.9580 - val_precision: 0.9508 - lr: 1.0000e-05\n",
            "Epoch 20/30\n",
            "56/56 [==============================] - ETA: 0s - loss: 0.0945 - dice_coef: 0.9055 - iou: 0.8285 - recall: 0.9855 - precision: 0.9763\n",
            "Epoch 20: val_loss did not improve from 0.11546\n",
            "56/56 [==============================] - 40s 714ms/step - loss: 0.0945 - dice_coef: 0.9055 - iou: 0.8285 - recall: 0.9855 - precision: 0.9763 - val_loss: 0.1169 - val_dice_coef: 0.8849 - val_iou: 0.7944 - val_recall: 0.9581 - val_precision: 0.9563 - lr: 1.0000e-05\n",
            "Epoch 21/30\n",
            "56/56 [==============================] - ETA: 0s - loss: 0.0929 - dice_coef: 0.9071 - iou: 0.8316 - recall: 0.9862 - precision: 0.9774\n",
            "Epoch 21: val_loss did not improve from 0.11546\n",
            "56/56 [==============================] - 41s 718ms/step - loss: 0.0929 - dice_coef: 0.9071 - iou: 0.8316 - recall: 0.9862 - precision: 0.9774 - val_loss: 0.1190 - val_dice_coef: 0.8834 - val_iou: 0.7940 - val_recall: 0.9487 - val_precision: 0.9722 - lr: 1.0000e-05\n",
            "Epoch 22/30\n",
            "56/56 [==============================] - ETA: 0s - loss: 0.0901 - dice_coef: 0.9099 - iou: 0.8357 - recall: 0.9859 - precision: 0.9787\n",
            "Epoch 22: val_loss improved from 0.11546 to 0.11009, saving model to /content/model.h5\n",
            "56/56 [==============================] - 40s 712ms/step - loss: 0.0901 - dice_coef: 0.9099 - iou: 0.8357 - recall: 0.9859 - precision: 0.9787 - val_loss: 0.1101 - val_dice_coef: 0.8921 - val_iou: 0.8059 - val_recall: 0.9571 - val_precision: 0.9633 - lr: 1.0000e-05\n",
            "Epoch 23/30\n",
            "56/56 [==============================] - ETA: 0s - loss: 0.0886 - dice_coef: 0.9114 - iou: 0.8384 - recall: 0.9875 - precision: 0.9788\n",
            "Epoch 23: val_loss improved from 0.11009 to 0.10925, saving model to /content/model.h5\n",
            "56/56 [==============================] - 41s 718ms/step - loss: 0.0886 - dice_coef: 0.9114 - iou: 0.8384 - recall: 0.9875 - precision: 0.9788 - val_loss: 0.1092 - val_dice_coef: 0.8928 - val_iou: 0.8072 - val_recall: 0.9498 - val_precision: 0.9719 - lr: 1.0000e-05\n",
            "Epoch 24/30\n",
            "56/56 [==============================] - ETA: 0s - loss: 0.0875 - dice_coef: 0.9125 - iou: 0.8403 - recall: 0.9869 - precision: 0.9801\n",
            "Epoch 24: val_loss did not improve from 0.10925\n",
            "56/56 [==============================] - 40s 702ms/step - loss: 0.0875 - dice_coef: 0.9125 - iou: 0.8403 - recall: 0.9869 - precision: 0.9801 - val_loss: 0.1147 - val_dice_coef: 0.8880 - val_iou: 0.8006 - val_recall: 0.9669 - val_precision: 0.9443 - lr: 1.0000e-05\n",
            "Epoch 25/30\n",
            "56/56 [==============================] - ETA: 0s - loss: 0.0856 - dice_coef: 0.9144 - iou: 0.8432 - recall: 0.9874 - precision: 0.9792\n",
            "Epoch 25: val_loss did not improve from 0.10925\n",
            "56/56 [==============================] - 40s 704ms/step - loss: 0.0856 - dice_coef: 0.9144 - iou: 0.8432 - recall: 0.9874 - precision: 0.9792 - val_loss: 0.1124 - val_dice_coef: 0.8897 - val_iou: 0.8044 - val_recall: 0.9555 - val_precision: 0.9639 - lr: 1.0000e-05\n",
            "Epoch 26/30\n",
            "56/56 [==============================] - ETA: 0s - loss: 0.0872 - dice_coef: 0.9128 - iou: 0.8409 - recall: 0.9857 - precision: 0.9788\n",
            "Epoch 26: val_loss improved from 0.10925 to 0.10727, saving model to /content/model.h5\n",
            "56/56 [==============================] - 41s 732ms/step - loss: 0.0872 - dice_coef: 0.9128 - iou: 0.8409 - recall: 0.9857 - precision: 0.9788 - val_loss: 0.1073 - val_dice_coef: 0.8948 - val_iou: 0.8106 - val_recall: 0.9370 - val_precision: 0.9817 - lr: 1.0000e-05\n",
            "Epoch 27/30\n",
            "56/56 [==============================] - ETA: 0s - loss: 0.0852 - dice_coef: 0.9148 - iou: 0.8441 - recall: 0.9865 - precision: 0.9781\n",
            "Epoch 27: val_loss improved from 0.10727 to 0.10216, saving model to /content/model.h5\n",
            "56/56 [==============================] - 41s 722ms/step - loss: 0.0852 - dice_coef: 0.9148 - iou: 0.8441 - recall: 0.9865 - precision: 0.9781 - val_loss: 0.1022 - val_dice_coef: 0.9002 - val_iou: 0.8198 - val_recall: 0.9629 - val_precision: 0.9577 - lr: 1.0000e-05\n",
            "Epoch 28/30\n",
            "56/56 [==============================] - ETA: 0s - loss: 0.0834 - dice_coef: 0.9166 - iou: 0.8471 - recall: 0.9871 - precision: 0.9793\n",
            "Epoch 28: val_loss did not improve from 0.10216\n",
            "56/56 [==============================] - 40s 714ms/step - loss: 0.0834 - dice_coef: 0.9166 - iou: 0.8471 - recall: 0.9871 - precision: 0.9793 - val_loss: 0.1063 - val_dice_coef: 0.8961 - val_iou: 0.8143 - val_recall: 0.9558 - val_precision: 0.9720 - lr: 1.0000e-05\n",
            "Epoch 29/30\n",
            "56/56 [==============================] - ETA: 0s - loss: 0.0803 - dice_coef: 0.9197 - iou: 0.8523 - recall: 0.9879 - precision: 0.9821\n",
            "Epoch 29: val_loss did not improve from 0.10216\n",
            "56/56 [==============================] - 40s 704ms/step - loss: 0.0803 - dice_coef: 0.9197 - iou: 0.8523 - recall: 0.9879 - precision: 0.9821 - val_loss: 0.1051 - val_dice_coef: 0.8881 - val_iou: 0.8011 - val_recall: 0.9550 - val_precision: 0.9687 - lr: 1.0000e-05\n",
            "Epoch 30/30\n",
            "56/56 [==============================] - ETA: 0s - loss: 0.0798 - dice_coef: 0.9202 - iou: 0.8530 - recall: 0.9884 - precision: 0.9817\n",
            "Epoch 30: val_loss did not improve from 0.10216\n",
            "56/56 [==============================] - 40s 709ms/step - loss: 0.0798 - dice_coef: 0.9202 - iou: 0.8530 - recall: 0.9884 - precision: 0.9817 - val_loss: 0.1043 - val_dice_coef: 0.8954 - val_iou: 0.8128 - val_recall: 0.9582 - val_precision: 0.9627 - lr: 1.0000e-05\n"
          ]
        }
      ]
    },
    {
      "cell_type": "code",
      "source": [
        "from tensorflow.keras.utils import CustomObjectScope\n",
        "with CustomObjectScope({'iou': iou, 'dice_coef': dice_coef, 'dice_loss': dice_loss}):\n",
        "  model = tf.keras.models.load_model(\"/content/model.h5\")"
      ],
      "metadata": {
        "id": "lf07jVe71AQ9"
      },
      "execution_count": 17,
      "outputs": []
    },
    {
      "cell_type": "code",
      "source": [
        "    \"\"\" Predicting the mask \"\"\"\n",
        "    from tqdm import tqdm\n",
        "    import matplotlib.pyplot as plt\n",
        "    ct=0\n",
        "    for x, y_l, y_r in tqdm(zip(test_x, test_y_l, test_y_r), total=len(test_x)):\n",
        "        \"\"\" Extracing the image name. \"\"\"\n",
        "        image_name = x.split(\"/\")[-1]\n",
        "\n",
        "        \"\"\" Reading the image \"\"\"\n",
        "        ori_x = cv2.imread(x, cv2.IMREAD_COLOR)\n",
        "        ori_x = cv2.resize(ori_x, (512, 512))\n",
        "        x = ori_x/255.0\n",
        "        x = x.astype(np.float32)\n",
        "        x = np.expand_dims(x, axis=0)\n",
        "\n",
        "        \"\"\" Reading the mask \"\"\"\n",
        "        ori_y_l = cv2.imread(y_l, cv2.IMREAD_GRAYSCALE)\n",
        "        ori_y_r = cv2.imread(y_r, cv2.IMREAD_GRAYSCALE)\n",
        "        ori_y = ori_y_l + ori_y_r\n",
        "        ori_y = cv2.resize(ori_y, (512, 512))\n",
        "        ori_y = np.expand_dims(ori_y, axis=-1)  ## (512, 512, 1)\n",
        "        ori_y = np.concatenate([ori_y, ori_y, ori_y], axis=-1)  ## (512, 512, 3)\n",
        "\n",
        "        \"\"\" Predicting the mask. \"\"\"\n",
        "        y_pred = model.predict(x)[0] > 0.5\n",
        "        y_pred = y_pred.astype(np.int32)\n",
        "        #plt.imshow(y_pred)\n",
        "\n",
        "        \"\"\" Saving the predicted mask along with the image and GT \"\"\"\n",
        "        save_image_path = \"/content/\"+str(ct)+\".png\"\n",
        "        ct+=1\n",
        "        y_pred = np.concatenate([y_pred, y_pred, y_pred], axis=-1)\n",
        "        sep_line = np.ones((512, 10, 3)) * 255\n",
        "        cat_image = np.concatenate([ori_x, sep_line, ori_y, sep_line, y_pred*255], axis=1)\n",
        "        cv2.imwrite(save_image_path, cat_image)"
      ],
      "metadata": {
        "colab": {
          "base_uri": "https://localhost:8080/"
        },
        "id": "K_jqyIlZ6IZF",
        "outputId": "06980024-9430-4483-e90c-1b4611976dfe"
      },
      "execution_count": 18,
      "outputs": [
        {
          "output_type": "stream",
          "name": "stderr",
          "text": [
            "100%|██████████| 13/13 [00:28<00:00,  2.17s/it]\n"
          ]
        }
      ]
    },
    {
      "cell_type": "code",
      "source": [
        ""
      ],
      "metadata": {
        "id": "O1XTgEkF6mjh"
      },
      "execution_count": null,
      "outputs": []
    }
  ]
}